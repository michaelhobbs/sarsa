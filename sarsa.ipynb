{
 "cells": [
  {
   "cell_type": "code",
   "execution_count": 1,
   "metadata": {},
   "outputs": [
    {
     "output_type": "error",
     "ename": "ModuleNotFoundError",
     "evalue": "No module named 'numpy'",
     "traceback": [
      "\u001b[0;31m---------------------------------------------------------------------------\u001b[0m",
      "\u001b[0;31mModuleNotFoundError\u001b[0m                       Traceback (most recent call last)",
      "\u001b[0;32m<ipython-input-1-e0e1492b7973>\u001b[0m in \u001b[0;36m<module>\u001b[0;34m\u001b[0m\n\u001b[0;32m----> 1\u001b[0;31m \u001b[0;32mimport\u001b[0m \u001b[0mnumpy\u001b[0m \u001b[0;32mas\u001b[0m \u001b[0mnp\u001b[0m\u001b[0;34m\u001b[0m\u001b[0;34m\u001b[0m\u001b[0m\n\u001b[0m\u001b[1;32m      2\u001b[0m \u001b[0;32mimport\u001b[0m \u001b[0mmatplotlib\u001b[0m\u001b[0;34m.\u001b[0m\u001b[0mpyplot\u001b[0m \u001b[0;32mas\u001b[0m \u001b[0mplt\u001b[0m\u001b[0;34m\u001b[0m\u001b[0;34m\u001b[0m\u001b[0m\n",
      "\u001b[0;31mModuleNotFoundError\u001b[0m: No module named 'numpy'"
     ]
    }
   ],
   "source": [
    "import numpy as np\n",
    "import matplotlib.pyplot as plt"
   ]
  },
  {
   "cell_type": "code",
   "execution_count": null,
   "metadata": {},
   "outputs": [],
   "source": [
    "ratCoords = [0.1, 0.1]"
   ]
  },
  {
   "cell_type": "code",
   "execution_count": null,
   "metadata": {},
   "outputs": [],
   "source": [
    "direction = np.random.random_integers(8)\n",
    "print(direction)"
   ]
  },
  {
   "cell_type": "code",
   "execution_count": null,
   "metadata": {},
   "outputs": [],
   "source": [
    "minCoords = [0, 0]\n",
    "maxCoords = [1, 1]\n",
    "\n",
    "def detectCollision(coords):\n",
    "    return coords[0] < minCoords[0] or coords[1] < minCoords[1] or coords[0] > maxCoords[0] or coords[1] > maxCoords[1]\n",
    "\n",
    "print(detectCollision([-0.1, 0.2]))\n",
    "print(detectCollision([0.1, -0.2]))\n",
    "print(detectCollision([1.1, 0.2]))\n",
    "print(detectCollision([0.1, 1.2]))\n",
    "print(detectCollision([0.1, 0.2]))\n",
    "print(detectCollision([-0.1, -0.2]))\n",
    "print(detectCollision([-1.1, 1.2]))"
   ]
  },
  {
   "cell_type": "code",
   "execution_count": null,
   "metadata": {},
   "outputs": [],
   "source": [
    "import math\n",
    "l = 0.03\n",
    "# l = math.sqrt(x**2 * 2)\n",
    "# l**2 = x**2 * 2\n",
    "# l**2 / 2 = x**2\n",
    "# math.sqrt(l**2 / 2) = x\n",
    "diagonalDelta = math.sqrt(l**2 /2)\n",
    "print('diagonal travel distance: ', diagonalDelta)\n",
    "positionDeltas = np.array([[0, -l], [diagonalDelta, -diagonalDelta], [l, 0], [diagonalDelta, diagonalDelta], [0, l], [-diagonalDelta, diagonalDelta], [-l, 0], [-diagonalDelta, -diagonalDelta]])\n",
    "print('travel vectors by direction: ', positionDeltas)\n",
    "def updatePosition(currentCoords, direction):\n",
    "    return currentCoords + positionDeltas[direction-1]"
   ]
  },
  {
   "cell_type": "code",
   "execution_count": null,
   "metadata": {},
   "outputs": [],
   "source": [
    "firstMoves = np.array([updatePosition(ratCoords, i) for i in range(0, 9)])\n",
    "print(firstMoves)\n",
    "\n",
    "plt.subplots(1, 1)\n",
    "plt.plot(firstMoves[:, 0], firstMoves[:, 1], 'ro')\n",
    "plt.axis([0, 0.2, 0, 0.2])\n",
    "plt.plot([0.1], [0.1], 'go')\n",
    "plt.xlabel('x coordinate')\n",
    "plt.ylabel('y coordinate')\n",
    "plt.title('Rat\\'s first available moves')\n",
    "plt.gca().set_aspect('equal', adjustable='box')\n",
    "plt.show()"
   ]
  },
  {
   "cell_type": "code",
   "execution_count": null,
   "metadata": {},
   "outputs": [],
   "source": [
    "startingPosition = ratCoords\n",
    "currentPosition = startingPosition\n",
    "history = np.array([currentPosition])\n",
    "collisions = np.array([])\n",
    "iteration = 0\n",
    "restart = 0\n",
    "while iteration < 100000:\n",
    "    if (restart == 1):\n",
    "        restart = 0\n",
    "        iteration += 1\n",
    "        currentPosition = startingPosition\n",
    "        history = np.append(history, [currentPosition], axis=0)\n",
    "        collisions = np.append(collisions, False)\n",
    "        continue\n",
    "    newDirection = math.floor(np.random.random_integers(8)) #geometric(p=0.15) % 8 + 1)\n",
    "    currentPosition = updatePosition(currentPosition, newDirection)\n",
    "    history = np.append(history, [currentPosition], axis=0)\n",
    "    hasCollision = detectCollision(currentPosition)\n",
    "    collisions = np.append(collisions, hasCollision)\n",
    "    if (hasCollision):\n",
    "        restart = 1\n",
    "    iteration += 1\n"
   ]
  },
  {
   "cell_type": "code",
   "execution_count": null,
   "metadata": {},
   "outputs": [],
   "source": [
    "plt.plot(collisions)"
   ]
  },
  {
   "cell_type": "code",
   "execution_count": null,
   "metadata": {},
   "outputs": [],
   "source": [
    "plt.plot(history[:, 0], history[:, 1])"
   ]
  },
  {
   "cell_type": "code",
   "execution_count": null,
   "metadata": {},
   "outputs": [],
   "source": [
    "history"
   ]
  },
  {
   "cell_type": "code",
   "execution_count": null,
   "metadata": {},
   "outputs": [],
   "source": [
    "reward = 0\n",
    "rewards = np.array([])\n",
    "for histPoint in history:\n",
    "    if detectCollision(histPoint):\n",
    "        reward -= 2\n",
    "        rewards = np.append(rewards, -2)\n",
    "    elif detectGoal(histPoint):\n",
    "        reward += 10\n",
    "        rewards = np.append(rewards, 10)\n",
    "    else:\n",
    "        rewards = np.append(rewards, 0)\n",
    "print('not np avg: ', reward / len(history))\n",
    "print('avg: ', np.average(rewards))\n",
    "print('median: ', np.median(rewards))\n",
    "\n",
    "plt.hist(rewards)\n",
    "plt.show()\n",
    "plt.pie([np.sum(rewards==0), np.sum(rewards==-2),np.sum(rewards==10)])\n",
    "plt.show()\n",
    "successRate = np.sum(rewards==10) / len(rewards) * 100\n",
    "neutralRate = np.sum(rewards==0) / len(rewards) * 100\n",
    "failRate = np.sum(rewards==-2) / len(rewards) * 100\n",
    "print('fail rate: ', failRate)\n",
    "print('success rate: ', successRate)\n",
    "print('neutral rate: ', neutralRate)"
   ]
  },
  {
   "cell_type": "code",
   "execution_count": null,
   "metadata": {},
   "outputs": [],
   "source": [
    "plt.hist(collisions)\n",
    "plt.show()"
   ]
  },
  {
   "cell_type": "code",
   "execution_count": null,
   "metadata": {},
   "outputs": [],
   "source": [
    "import math\n",
    "2*math.pi*8/8\n"
   ]
  },
  {
   "cell_type": "code",
   "execution_count": null,
   "metadata": {},
   "outputs": [],
   "source": [
    "def detectGoal(coords):\n",
    "\treturn np.sqrt((coords[0]-0.8)**2 + (coords[1]-0.8)**2) <= 0.1\n",
    "print('[0.1212132, 0.0787868]: ',detectGoal([0.1212132, 0.0787868]))\n",
    "print('[0.1212132, 0.1212132]: ',detectGoal([0.1212132, 0.1212132]))\n",
    "print('[0.1, 0.1]: ',detectGoal([0.1, 0.1]))\n",
    "print('[0.8, 0.8]: ',detectGoal([0.8, 0.8]))"
   ]
  },
  {
   "cell_type": "code",
   "execution_count": null,
   "metadata": {},
   "outputs": [],
   "source": [
    "import numpy as np\n",
    "import matplotlib.pyplot as plt\n",
    "\n",
    "axisSize = 20\n",
    "weights = np.array(np.random.rand(axisSize * axisSize, 8), dtype=np.float64)\n",
    "xDelta = 1 / (axisSize - 1)\n",
    "axis = [(j % axisSize) * xDelta for j in range(axisSize)]\n",
    "\n",
    "x = axis\n",
    "y = axis\n",
    "\n",
    "X,Y = np.meshgrid(x,y)\n",
    "weights[1,3] = 2\n",
    "maxElements = [np.amax(weights[i,:]) for i in range(axisSize*axisSize)]\n",
    "maxElement = np.amax(maxElements)\n",
    "maxIndexes = [np.random.choice(np.where(weights[i,:] == maxElements[i])[0]) for i in range(axisSize*axisSize)]\n",
    "def convertIndexToX(i):\n",
    "    return np.array([0,1, 1,1,0,-1,-1,-1])[i]\n",
    "def convertIndexToY(i):\n",
    "    return np.array([-1,-1, 0, 1, 1, 1, 0, -1])[i]\n",
    "u = np.array([convertIndexToX(maxIndexes[:])])\n",
    "v = np.array([convertIndexToY(maxIndexes[:])])\n",
    "# u = np.multiply([convertIndexToX(maxIndexes[:])], (maxElements / maxElement))\n",
    "# v = np.multiply([convertIndexToY(maxIndexes[:])], (maxElements / maxElement))\n",
    "\n",
    "\n",
    "fig, ax = plt.subplots(figsize=(9,9))\n",
    "\n",
    "\n",
    "ax.quiver(X,Y,u,v, scale=2*axisSize, scale_units='xy')\n",
    "\n",
    "\n",
    "ax.xaxis.set_ticks([])\n",
    "ax.yaxis.set_ticks([])\n",
    "ax.axis([-0.1, 1.1, -0.1, 1.1])\n",
    "ax.set_aspect('equal')\n",
    "rectangle = plt.Rectangle((0,0), 1, 1, ec='blue', fc='none')\n",
    "plt.gca().add_patch(rectangle)\n",
    "\n",
    "\n",
    "plt.show()"
   ]
  },
  {
   "cell_type": "code",
   "execution_count": null,
   "metadata": {},
   "outputs": [],
   "source": [
    "import numpy as np\n",
    "from src.sarsa import cellCoordsByIndex, getCellIndex\n",
    "\n",
    "print(cellCoordsByIndex(0, 20, 20, 1/19, 1/19))\n",
    "print(cellCoordsByIndex(1, 20, 20, 1/19, 1/19))\n",
    "print(cellCoordsByIndex(2, 20, 20, 1/19, 1/19))\n",
    "print(cellCoordsByIndex(20, 20, 20, 1/19, 1/19))\n",
    "print(cellCoordsByIndex(21, 20, 20, 1/19, 1/19))\n",
    "print(getCellIndex([0.0, 0.0]))\n",
    "print(getCellIndex(np.array([0.05263157894736842, 0.0])))\n",
    "print(getCellIndex([0.20526315789473684, 0.6]))\n",
    "print(getCellIndex([0.0, 0.05263157894736842]))\n",
    "print(getCellIndex([0.05263157894736842, 0.05263157894736842]))\n",
    "\n",
    "\n",
    "print(getCellIndex(cellCoordsByIndex(0, 20, 20, 1/19, 1/19)))\n",
    "print(getCellIndex(cellCoordsByIndex(1, 20, 20, 1/19, 1/19)))\n",
    "print(getCellIndex(cellCoordsByIndex(2, 20, 20, 1/19, 1/19)))\n",
    "print(getCellIndex(cellCoordsByIndex(20, 20, 20, 1/19, 1/19)))\n",
    "print(getCellIndex(cellCoordsByIndex(21, 20, 20, 1/19, 1/19)))"
   ]
  },
  {
   "cell_type": "code",
   "execution_count": null,
   "metadata": {},
   "outputs": [],
   "source": [
    "from src.sarsa import generateCoordsArray\n",
    "print(generateCoordsArray(20,20)[1][0])"
   ]
  },
  {
   "cell_type": "code",
   "execution_count": null,
   "metadata": {},
   "outputs": [],
   "source": [
    "import numpy as np\n",
    "from src.sarsa import generateCoordsArray, calculatePlaceCellActivity, updateWeights\n",
    "placeCellCoords = generateCoordsArray(2,2)\n",
    "def calculateOutputNeuronActivityForDirection(ratCoords, direction, weights):\n",
    "\treturn np.sum(np.multiply(weights[:, direction], calculatePlaceCellActivity(ratCoords, placeCellCoords)))\n",
    "\n",
    "weights = np.array([[1,2],[3,4],[5,6],[7,8]], dtype=np.float128)\n",
    "eligibilityTrace = np.array([[0,0],[0,0],[0,0],[0,0]], dtype=np.float128)\n",
    "ratCoords=[0,0]\n",
    "print(calculatePlaceCellActivity(ratCoords, placeCellCoords))\n",
    "print(weights[:, 1])\n",
    "\n",
    "print(np.multiply(weights[:, 1], calculatePlaceCellActivity(ratCoords, placeCellCoords)))\n",
    "print(np.sum(np.multiply(weights[:, 1], calculatePlaceCellActivity(ratCoords, placeCellCoords))))\n",
    "print(calculateOutputNeuronActivityForDirection(ratCoords, 1, weights))\n",
    "eligibilityTrace = np.array([[1,0],[0,0],[0,0],[0,0]], dtype=np.float128)\n",
    "updateWeights(-2, weights, eligibilityTrace)\n",
    "print(weights)"
   ]
  },
  {
   "cell_type": "code",
   "execution_count": null,
   "metadata": {},
   "outputs": [],
   "source": [
    "weights = np.array(np.random.rand(2 * 2, 3), dtype=np.float128)\n",
    "print(weights)"
   ]
  },
  {
   "cell_type": "code",
   "execution_count": null,
   "metadata": {},
   "outputs": [],
   "source": [
    "import math\n",
    "l = 1\n",
    "diagonalDelta = math.sqrt(l**2/2)\n",
    "diagonalDelta"
   ]
  },
  {
   "cell_type": "code",
   "execution_count": null,
   "metadata": {},
   "outputs": [],
   "source": [
    "(0.5 - 0.01) / 50"
   ]
  },
  {
   "cell_type": "code",
   "execution_count": null,
   "metadata": {},
   "outputs": [],
   "source": [
    "0.5 - 0.0098*50"
   ]
  },
  {
   "cell_type": "code",
   "execution_count": null,
   "metadata": {},
   "outputs": [],
   "source": [
    "import numpy as np\n",
    "import matplotlib.pyplot as plt\n",
    "\n",
    "ratsDurationData = np.zeros([10, 50])\n",
    "ratsRewardData = np.zeros([10, 50])\n",
    "for i in range(10):\n",
    "    [trialGoalHistory, trialDurationHistory, trialRewardHistory] = np.asarray(np.loadtxt('output-4/'+str(i)+'/testTrial.csv', delimiter=\",\"))\n",
    "    ratsDurationData[i, :] = trialDurationHistory\n",
    "    ratsRewardData[i, :] = trialRewardHistory\n",
    "\n",
    "avgDurationPerTrial = np.mean(ratsDurationData, 0)\n",
    "stdDurationPerTrial = np.std(ratsDurationData, 0)\n",
    "print('first trial per rat: ', ratsDurationData[:, 0])\n",
    "print('std[0]: ', stdDurationPerTrial[0])\n",
    "print('max[0, :]: ', np.max(ratsDurationData[:, 0]))\n",
    "print('min[0, :]: ', np.min(ratsDurationData[:, 0]))\n",
    "\n",
    "avgRewardPerTrial = np.mean(ratsRewardData, 0)\n",
    "stdRewardPerTrial = np.std(ratsRewardData, 0)\n",
    "\n",
    "t = np.arange(50)\n",
    "\n",
    "plt.plot(avgDurationPerTrial, color='#A93226')\n",
    "plt.fill_between(t, avgDurationPerTrial+stdDurationPerTrial, avgDurationPerTrial-stdDurationPerTrial, facecolor='#A93226', alpha=0.2)\n",
    "plt.show()\n",
    "plt.close()\n",
    "\n",
    "\n",
    "plt.plot(avgRewardPerTrial, color='black')\n",
    "plt.fill_between(t, avgRewardPerTrial+stdRewardPerTrial, avgRewardPerTrial-stdRewardPerTrial, facecolor='black', alpha=0.25)\n",
    "plt.show()\n",
    "plt.close()\n"
   ]
  },
  {
   "cell_type": "code",
   "execution_count": null,
   "metadata": {},
   "outputs": [],
   "source": [
    "np.loadtxt('output/0/testTrial.csv',  delimiter=\",\")"
   ]
  },
  {
   "cell_type": "code",
   "execution_count": null,
   "metadata": {},
   "outputs": [],
   "source": [
    "coords = np.array([])\n",
    "coords = np.append(coords, [0.1, 0.1])\n",
    "coords = np.append(coords, [0.5, 0.5])\n",
    "coords = np.append(coords, [1, 1])\n",
    "print(np.reshape(coords, (-1, 2)))"
   ]
  },
  {
   "cell_type": "code",
   "execution_count": null,
   "metadata": {},
   "outputs": [],
   "source": [
    "\"\"\"\n",
    "=========================\n",
    "Simple animation examples\n",
    "=========================\n",
    "\n",
    "Two animations where the first is a random walk plot and\n",
    "the second is an image animation.\n",
    "\"\"\"\n",
    "\n",
    "import numpy as np\n",
    "import matplotlib.pyplot as plt\n",
    "import matplotlib.animation as animation\n",
    "from IPython.display import HTML\n",
    "\n",
    "\n",
    "def update_line(num, data, line):\n",
    "    line.set_data(data[..., :num])\n",
    "    return line,\n",
    "\n",
    "###############################################################################\n",
    "\n",
    "fig1 = plt.figure()\n",
    "\n",
    "# Fixing random state for reproducibility\n",
    "np.random.seed(19680801)\n",
    "\n",
    "data = np.random.rand(2, 25)\n",
    "l, = plt.plot([], [], 'r-')\n",
    "plt.xlim(0, 1)\n",
    "plt.ylim(0, 1)\n",
    "plt.xlabel('x')\n",
    "plt.title('test')\n",
    "line_ani = animation.FuncAnimation(fig1, update_line, 25, fargs=(data, l),\n",
    "                                   interval=50, blit=True)\n",
    "\n",
    "# To save the animation, use the command: line_ani.save('lines.mp4')\n",
    "HTML(line_ani.to_jshtml())\n",
    "\n",
    "###############################################################################\n",
    "\n",
    "fig2 = plt.figure()\n",
    "\n",
    "x = np.arange(-9, 10)\n",
    "y = np.arange(-9, 10).reshape(-1, 1)\n",
    "base = np.hypot(x, y)\n",
    "ims = []\n",
    "for add in np.arange(15):\n",
    "    ims.append((plt.pcolor(x, y, base + add, norm=plt.Normalize(0, 30)),))\n",
    "\n",
    "im_ani = animation.ArtistAnimation(fig2, ims, interval=50, repeat_delay=3000,\n",
    "                                   blit=True)\n",
    "# To save this second animation with some metadata, use the following command:\n",
    "# im_ani.save('im.mp4', metadata={'artist':'Guido'})\n",
    "\n",
    "plt.show()\n"
   ]
  },
  {
   "cell_type": "code",
   "execution_count": null,
   "metadata": {},
   "outputs": [],
   "source": [
    "import numpy as np\n",
    "import matplotlib.pyplot as plt\n",
    "import matplotlib.animation as animation\n",
    "from matplotlib import rc\n",
    "from IPython.display import HTML\n",
    "\n",
    "rc('animation', html='jshtml')\n",
    "\n",
    "\n",
    "def update_line(num, data, line):\n",
    "    line.set_data(data[..., :num])\n",
    "    return line,\n",
    "\n",
    "###############################################################################\n",
    "\n",
    "fig1 = plt.figure()\n",
    "\n",
    "# Fixing random state for reproducibility\n",
    "np.random.seed(19680801)\n",
    "\n",
    "data = np.random.rand(2, 25)\n",
    "l, = plt.plot([], [], 'r-')\n",
    "plt.xlim(0, 1)\n",
    "plt.ylim(0, 1)\n",
    "plt.xlabel('x')\n",
    "plt.title('test')\n",
    "line_ani = animation.FuncAnimation(fig1, update_line, 25, fargs=(data, l),\n",
    "                                   interval=50, blit=True)\n",
    "\n",
    "# To save the animation, use the command: line_ani.save('lines.mp4')\n",
    "# HTML(line_ani.to_jshtml())\n",
    "line_ani"
   ]
  },
  {
   "cell_type": "code",
   "execution_count": null,
   "metadata": {},
   "outputs": [],
   "source": [
    "import math\n",
    "l = 0.03\n",
    "diagonalDelta = math.sqrt(2*l**2)\n",
    "diagonalDelta"
   ]
  },
  {
   "cell_type": "code",
   "execution_count": null,
   "metadata": {},
   "outputs": [],
   "source": [
    "import src.sarsa as sarsa\n",
    "import matplotlib.pyplot as plt\n",
    "from mpl_toolkits.mplot3d import Axes3D\n",
    "from matplotlib import cm\n",
    "import numpy as np\n",
    "import math\n",
    "# fig = plt.figure()\n",
    "# ax = fig.add_subplot(111, projection='3d')\n",
    "\n",
    "xAxisSteps = 20\n",
    "yAxisSteps = 20\n",
    "ratCoords = [0.5, 0.5]\n",
    "placeCellCoords = sarsa.generateCoordsArray(xAxisSteps, yAxisSteps)\n",
    "Z = sarsa.calculatePlaceCellActivity(ratCoords, placeCellCoords)\n",
    "# X = placeCellCoords[:,1]\n",
    "# Y = placeCellCoords[:,0]\n",
    "# print(X)\n",
    "\n",
    "Zshape = np.reshape(Z, [20, 20])\n",
    "\n",
    "\n",
    "axisSize = 20\n",
    "xDelta = 1 / (axisSize - 1)\n",
    "axis = [(j % axisSize) * xDelta for j in range(axisSize)]\n",
    "\n",
    "x = axis\n",
    "y = axis\n",
    "\n",
    "X,Y = np.meshgrid(x,y)\n",
    "Z = Zshape\n",
    "\n",
    "fig = plt.figure()\n",
    "ax = fig.add_subplot(111, projection='3d')\n",
    "ax.plot_wireframe(X, Y, Z, cmap=cm.coolwarm)\n",
    "plt.show()"
   ]
  },
  {
   "cell_type": "code",
   "execution_count": null,
   "metadata": {},
   "outputs": [],
   "source": [
    "np.reshape(np.sort(np.reshape(Z, [1, 400])), [400])[-30:-1]"
   ]
  },
  {
   "cell_type": "code",
   "execution_count": null,
   "metadata": {},
   "outputs": [],
   "source": [
    "np.sum(Z)"
   ]
  },
  {
   "cell_type": "code",
   "execution_count": null,
   "metadata": {},
   "outputs": [],
   "source": [
    "plt.close()\n",
    "from matplotlib import cm\n",
    "fig = plt.figure()\n",
    "ax = fig.gca(projection='3d')\n",
    "surf = ax.plot_surface(X, Y, Z, cmap=cm.coolwarm)\n",
    "fig.colorbar(surf, shrink=0.5, aspect=5)\n",
    "plt.show()"
   ]
  },
  {
   "cell_type": "code",
   "execution_count": null,
   "metadata": {
    "tags": []
   },
   "outputs": [],
   "source": [
    "import matplotlib; print(matplotlib.__version__)"
   ]
  },
  {
   "cell_type": "code",
   "execution_count": null,
   "metadata": {},
   "outputs": [],
   "source": [
    "import numpy as np\n",
    "import pandas as pd\n",
    "\n",
    "dist_all = pd.DataFrame([[1, 0],[2,0]])\n",
    "aux = {}\n",
    "for j in dist_all.columns:\n",
    "    for i in dist_all.index:\n",
    "        if dist_all.loc[i,j]<25:\n",
    "            aux[j] = np.append(aux[j],i)"
   ]
  },
  {
   "cell_type": "code",
   "execution_count": null,
   "metadata": {},
   "outputs": [],
   "source": [
    "aux"
   ]
  },
  {
   "cell_type": "code",
   "execution_count": null,
   "metadata": {},
   "outputs": [],
   "source": [
    "np.array(())"
   ]
  },
  {
   "cell_type": "code",
   "execution_count": 3,
   "metadata": {},
   "outputs": [],
   "source": [
    "import numpy as np\n",
    "import math\n",
    "import src.sarsa as sarsa\n",
    "\n",
    "ratCoords = [0,0]\n",
    "placeCellCoords = sarsa.generateCoordsArray(5,5)\n",
    "activityLooped = sarsa.calculatePlaceCellActivity(ratCoords, placeCellCoords)"
   ]
  },
  {
   "cell_type": "code",
   "execution_count": 4,
   "metadata": {},
   "outputs": [
    {
     "output_type": "stream",
     "name": "stdout",
     "text": [
      "[1.00000000e+000 3.72665317e-006 1.92874985e-022 1.38634329e-049\n 1.38389653e-087 3.72665317e-006 1.38879439e-011 7.18778174e-028\n 5.16642063e-055 5.15730238e-093 1.92874985e-022 7.18778174e-028\n 3.72007598e-044 2.67390942e-071 2.66919022e-109 1.38634329e-049\n 5.16642063e-055 2.67390942e-071 1.92194773e-098 1.91855567e-136\n 1.38389653e-087 5.15730238e-093 2.66919022e-109 1.91855567e-136\n 1.91516960e-174]\n"
     ]
    }
   ],
   "source": [
    "print(activityLooped)"
   ]
  },
  {
   "cell_type": "code",
   "execution_count": 7,
   "metadata": {},
   "outputs": [
    {
     "output_type": "execute_result",
     "data": {
      "text/plain": [
       "array([1.00000000e+000, 3.72665317e-006, 1.92874985e-022, 1.38634329e-049,\n",
       "       1.38389653e-087, 3.72665317e-006, 1.38879439e-011, 7.18778174e-028,\n",
       "       5.16642063e-055, 5.15730238e-093, 1.92874985e-022, 7.18778174e-028,\n",
       "       3.72007598e-044, 2.67390942e-071, 2.66919022e-109, 1.38634329e-049,\n",
       "       5.16642063e-055, 2.67390942e-071, 1.92194773e-098, 1.91855567e-136,\n",
       "       1.38389653e-087, 5.15730238e-093, 2.66919022e-109, 1.91855567e-136,\n",
       "       1.91516960e-174])"
      ]
     },
     "metadata": {},
     "execution_count": 7
    }
   ],
   "source": [
    "sigma = 0.05\n",
    "np.exp(-((placeCellCoords[:,0]-ratCoords[0])**2 + (placeCellCoords[:,1]-ratCoords[1])**2) / (2 * sigma**2))"
   ]
  },
  {
   "cell_type": "code",
   "execution_count": 1,
   "metadata": {},
   "outputs": [
    {
     "output_type": "execute_result",
     "data": {
      "text/plain": [
       "2"
      ]
     },
     "metadata": {},
     "execution_count": 1
    }
   ],
   "source": [
    "t = None\n",
    "(1,2)[t is None]"
   ]
  },
  {
   "cell_type": "code",
   "execution_count": null,
   "metadata": {},
   "outputs": [],
   "source": []
  }
 ],
 "metadata": {
  "language_info": {
   "codemirror_mode": {
    "name": "ipython",
    "version": 3
   },
   "file_extension": ".py",
   "mimetype": "text/x-python",
   "name": "python",
   "nbconvert_exporter": "python",
   "pygments_lexer": "ipython3",
   "version": "3.9.1-final"
  },
  "orig_nbformat": 2,
  "kernelspec": {
   "name": "python3",
   "display_name": "Python 3",
   "language": "python"
  }
 },
 "nbformat": 4,
 "nbformat_minor": 2
}